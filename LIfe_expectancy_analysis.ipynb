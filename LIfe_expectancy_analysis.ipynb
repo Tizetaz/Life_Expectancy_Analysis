{
  "nbformat": 4,
  "nbformat_minor": 0,
  "metadata": {
    "kernelspec": {
      "display_name": "Python 3",
      "language": "python",
      "name": "python3"
    },
    "language_info": {
      "codemirror_mode": {
        "name": "ipython",
        "version": 3
      },
      "file_extension": ".py",
      "mimetype": "text/x-python",
      "name": "python",
      "nbconvert_exporter": "python",
      "pygments_lexer": "ipython3",
      "version": "3.6.5"
    },
    "colab": {
      "name": "LIfe_expectancy_analysis.ipynb",
      "provenance": []
    }
  },
  "cells": [
    {
      "cell_type": "markdown",
      "metadata": {
        "id": "ng4rMSUR7f-E"
      },
      "source": [
        "#                                     Life Expectancy Dataset Analysis"
      ]
    },
    {
      "cell_type": "markdown",
      "metadata": {
        "id": "AtmwTSDJ7f-F"
      },
      "source": [
        "This dataset consists of data for 183 countries from 2000 to 2015  mainly focusing on development status information, immunization, mortality, social, and economic aspects of countries. In this project, we will test if adult mortality \n",
        "and life expectancy have a significant difference between the years of 2006-2010 and 2011-2015. A portion of data , data from 2006 to 2015 and developing countries, have been taken from the total dataset and used in this analysis. Let us dive into the process...\n"
      ]
    },
    {
      "cell_type": "code",
      "metadata": {
        "colab": {
          "base_uri": "https://localhost:8080/"
        },
        "id": "fmCg789f7f-F",
        "outputId": "a33420a8-3364-43e9-fa35-58e249be98cd"
      },
      "source": [
        "# All libraries related with statistics and plot are imported here\n",
        "import pandas as pd\n",
        "import numpy as np\n",
        "\n",
        "from scipy import stats\n",
        "import statsmodels.api as sm\n",
        "from statsmodels.formula.api import ols\n",
        "from statsmodels.stats.multicomp import pairwise_tukeyhsd\n",
        "from statsmodels.graphics.gofplots import qqplot\n",
        "\n",
        "import seaborn as sns\n",
        "import matplotlib.pyplot as plt\n"
      ],
      "execution_count": null,
      "outputs": [
        {
          "output_type": "stream",
          "text": [
            "/usr/local/lib/python3.6/dist-packages/statsmodels/tools/_testing.py:19: FutureWarning: pandas.util.testing is deprecated. Use the functions in the public API at pandas.testing instead.\n",
            "  import pandas.util.testing as tm\n"
          ],
          "name": "stderr"
        }
      ]
    },
    {
      "cell_type": "code",
      "metadata": {
        "id": "RSbdgOmF7f-G"
      },
      "source": [
        "# A function that calculate a 95% CI for 2 1d numpy arrays for two variables that satisfy normality\n",
        "\n",
        "def get_95_ci_p(x1, x2):\n",
        "\n",
        "    signal = x1.mean() - x2.mean()\n",
        "    noise = np.sqrt(x1.var() / x1.size + x2.var() / x2.size)\n",
        "\n",
        "    ci_lo = signal - 1.96 * noise\n",
        "    ci_hi = signal + 1.96 * noise\n",
        "\n",
        "    return ci_lo, ci_hi"
      ],
      "execution_count": null,
      "outputs": []
    },
    {
      "cell_type": "code",
      "metadata": {
        "scrolled": true,
        "colab": {
          "base_uri": "https://localhost:8080/",
          "height": 710
        },
        "id": "1YFqkjPQ7f-G",
        "outputId": "1604da50-eb0d-4145-ccdf-402b8f2a5234"
      },
      "source": [
        "# read in data and know some information about it\n",
        "data_url= 'https://docs.google.com/spreadsheets/d/1eQL6gfa5O_wwaJUe482Cv093dP-fyezGHxfnCnp7ye4/export?format=csv'\n",
        "df=pd.read_csv(data_url)\n",
        "# df=pd.read_csv('\\pro_data\\Life Expectancy Data.csv')\n",
        "df.info()\n",
        "df.head(3)"
      ],
      "execution_count": null,
      "outputs": [
        {
          "output_type": "stream",
          "text": [
            "<class 'pandas.core.frame.DataFrame'>\n",
            "RangeIndex: 2938 entries, 0 to 2937\n",
            "Data columns (total 22 columns):\n",
            " #   Column                           Non-Null Count  Dtype  \n",
            "---  ------                           --------------  -----  \n",
            " 0   Country                          2938 non-null   object \n",
            " 1   Year                             2938 non-null   int64  \n",
            " 2   Status                           2938 non-null   object \n",
            " 3   Life expectancy                  2928 non-null   float64\n",
            " 4   Adult Mortality                  2928 non-null   float64\n",
            " 5   infant deaths                    2938 non-null   int64  \n",
            " 6   Alcohol                          2744 non-null   float64\n",
            " 7   percentage expenditure           2938 non-null   float64\n",
            " 8   Hepatitis B                      2385 non-null   float64\n",
            " 9   Measles                          2938 non-null   int64  \n",
            " 10  BMI                              2904 non-null   float64\n",
            " 11  under-five deaths                2938 non-null   int64  \n",
            " 12  Polio                            2919 non-null   float64\n",
            " 13  Total expenditure                2712 non-null   float64\n",
            " 14  Diphtheria                       2919 non-null   float64\n",
            " 15  HIV/AIDS                         2938 non-null   float64\n",
            " 16  GDP                              2490 non-null   float64\n",
            " 17  Population                       2286 non-null   float64\n",
            " 18  thinness  1-19 years             2904 non-null   float64\n",
            " 19  thinness 5-9 years               2904 non-null   float64\n",
            " 20  Income composition of resources  2771 non-null   float64\n",
            " 21  Schooling                        2775 non-null   float64\n",
            "dtypes: float64(16), int64(4), object(2)\n",
            "memory usage: 505.1+ KB\n"
          ],
          "name": "stdout"
        },
        {
          "output_type": "execute_result",
          "data": {
            "text/html": [
              "<div>\n",
              "<style scoped>\n",
              "    .dataframe tbody tr th:only-of-type {\n",
              "        vertical-align: middle;\n",
              "    }\n",
              "\n",
              "    .dataframe tbody tr th {\n",
              "        vertical-align: top;\n",
              "    }\n",
              "\n",
              "    .dataframe thead th {\n",
              "        text-align: right;\n",
              "    }\n",
              "</style>\n",
              "<table border=\"1\" class=\"dataframe\">\n",
              "  <thead>\n",
              "    <tr style=\"text-align: right;\">\n",
              "      <th></th>\n",
              "      <th>Country</th>\n",
              "      <th>Year</th>\n",
              "      <th>Status</th>\n",
              "      <th>Life expectancy</th>\n",
              "      <th>Adult Mortality</th>\n",
              "      <th>infant deaths</th>\n",
              "      <th>Alcohol</th>\n",
              "      <th>percentage expenditure</th>\n",
              "      <th>Hepatitis B</th>\n",
              "      <th>Measles</th>\n",
              "      <th>BMI</th>\n",
              "      <th>under-five deaths</th>\n",
              "      <th>Polio</th>\n",
              "      <th>Total expenditure</th>\n",
              "      <th>Diphtheria</th>\n",
              "      <th>HIV/AIDS</th>\n",
              "      <th>GDP</th>\n",
              "      <th>Population</th>\n",
              "      <th>thinness  1-19 years</th>\n",
              "      <th>thinness 5-9 years</th>\n",
              "      <th>Income composition of resources</th>\n",
              "      <th>Schooling</th>\n",
              "    </tr>\n",
              "  </thead>\n",
              "  <tbody>\n",
              "    <tr>\n",
              "      <th>0</th>\n",
              "      <td>Afghanistan</td>\n",
              "      <td>2015</td>\n",
              "      <td>Developing</td>\n",
              "      <td>65.0</td>\n",
              "      <td>263.0</td>\n",
              "      <td>62</td>\n",
              "      <td>0.01</td>\n",
              "      <td>71.279624</td>\n",
              "      <td>65.0</td>\n",
              "      <td>1154</td>\n",
              "      <td>19.1</td>\n",
              "      <td>83</td>\n",
              "      <td>6.0</td>\n",
              "      <td>8.16</td>\n",
              "      <td>65.0</td>\n",
              "      <td>0.1</td>\n",
              "      <td>584.259210</td>\n",
              "      <td>33736494.0</td>\n",
              "      <td>17.2</td>\n",
              "      <td>17.3</td>\n",
              "      <td>0.479</td>\n",
              "      <td>10.1</td>\n",
              "    </tr>\n",
              "    <tr>\n",
              "      <th>1</th>\n",
              "      <td>Afghanistan</td>\n",
              "      <td>2014</td>\n",
              "      <td>Developing</td>\n",
              "      <td>59.9</td>\n",
              "      <td>271.0</td>\n",
              "      <td>64</td>\n",
              "      <td>0.01</td>\n",
              "      <td>73.523582</td>\n",
              "      <td>62.0</td>\n",
              "      <td>492</td>\n",
              "      <td>18.6</td>\n",
              "      <td>86</td>\n",
              "      <td>58.0</td>\n",
              "      <td>8.18</td>\n",
              "      <td>62.0</td>\n",
              "      <td>0.1</td>\n",
              "      <td>612.696514</td>\n",
              "      <td>327582.0</td>\n",
              "      <td>17.5</td>\n",
              "      <td>17.5</td>\n",
              "      <td>0.476</td>\n",
              "      <td>10.0</td>\n",
              "    </tr>\n",
              "    <tr>\n",
              "      <th>2</th>\n",
              "      <td>Afghanistan</td>\n",
              "      <td>2013</td>\n",
              "      <td>Developing</td>\n",
              "      <td>59.9</td>\n",
              "      <td>268.0</td>\n",
              "      <td>66</td>\n",
              "      <td>0.01</td>\n",
              "      <td>73.219243</td>\n",
              "      <td>64.0</td>\n",
              "      <td>430</td>\n",
              "      <td>18.1</td>\n",
              "      <td>89</td>\n",
              "      <td>62.0</td>\n",
              "      <td>8.13</td>\n",
              "      <td>64.0</td>\n",
              "      <td>0.1</td>\n",
              "      <td>631.744976</td>\n",
              "      <td>31731688.0</td>\n",
              "      <td>17.7</td>\n",
              "      <td>17.7</td>\n",
              "      <td>0.470</td>\n",
              "      <td>9.9</td>\n",
              "    </tr>\n",
              "  </tbody>\n",
              "</table>\n",
              "</div>"
            ],
            "text/plain": [
              "       Country  Year  ... Income composition of resources  Schooling\n",
              "0  Afghanistan  2015  ...                           0.479       10.1\n",
              "1  Afghanistan  2014  ...                           0.476       10.0\n",
              "2  Afghanistan  2013  ...                           0.470        9.9\n",
              "\n",
              "[3 rows x 22 columns]"
            ]
          },
          "metadata": {
            "tags": []
          },
          "execution_count": 3
        }
      ]
    },
    {
      "cell_type": "code",
      "metadata": {
        "id": "Kgriac4B7f-G"
      },
      "source": [
        "# Continue examaning our data - size (no of rows and columns) and liist of columns\n",
        "print(df.shape)\n",
        "df.columns"
      ],
      "execution_count": null,
      "outputs": []
    },
    {
      "cell_type": "code",
      "metadata": {
        "id": "NI0aHBqo7f-G"
      },
      "source": [
        "# Rename column names for the purpuse of consistency and ease of use- remove spaces and replace them with under score\n",
        "# Change all column names to lower case\n",
        "cols = list(df.columns)\n",
        "upd_cols = []\n",
        "for col in cols:\n",
        "    upd_cols.append(col.strip().replace('  ', ' ').replace(' ', '_').lower())\n",
        "df.columns = upd_cols"
      ],
      "execution_count": null,
      "outputs": []
    },
    {
      "cell_type": "code",
      "metadata": {
        "id": "2sERT1tl7f-G"
      },
      "source": [
        "# Display summary information regarding missing values\n",
        "df.isna().sum()"
      ],
      "execution_count": null,
      "outputs": []
    },
    {
      "cell_type": "code",
      "metadata": {
        "colab": {
          "base_uri": "https://localhost:8080/"
        },
        "id": "55H2T_cJ7f-G",
        "outputId": "1e9d4807-1947-4a4b-8ec0-02611e65e668"
      },
      "source": [
        "# Drop rows that contain missing values for the specifc variables participating in the analysis\n",
        "# In the real life situation, alternative options need to be checked before deciding to drop the variables\n",
        "df_d=df.dropna(subset=['life_expectancy','adult_mortality'])\n",
        "df_d.isna().sum()"
      ],
      "execution_count": null,
      "outputs": [
        {
          "output_type": "execute_result",
          "data": {
            "text/plain": [
              "country                              0\n",
              "year                                 0\n",
              "status                               0\n",
              "life_expectancy                      0\n",
              "adult_mortality                      0\n",
              "infant_deaths                        0\n",
              "alcohol                            193\n",
              "percentage_expenditure               0\n",
              "hepatitis_b                        553\n",
              "measles                              0\n",
              "bmi                                 32\n",
              "under-five_deaths                    0\n",
              "polio                               19\n",
              "total_expenditure                  226\n",
              "diphtheria                          19\n",
              "hiv/aids                             0\n",
              "gdp                                443\n",
              "population                         644\n",
              "thinness_1-19_years                 32\n",
              "thinness_5-9_years                  32\n",
              "income_composition_of_resources    160\n",
              "schooling                          160\n",
              "dtype: int64"
            ]
          },
          "metadata": {
            "tags": []
          },
          "execution_count": 5
        }
      ]
    },
    {
      "cell_type": "code",
      "metadata": {
        "colab": {
          "base_uri": "https://localhost:8080/",
          "height": 334
        },
        "id": "ODCWWoQn7f-G",
        "outputId": "fe6a2443-f34f-4b6d-d294-de186da59904"
      },
      "source": [
        "# Check if variables to be analized are continous \n",
        "ax = sns.distplot(df_d['adult_mortality'], bins=20)"
      ],
      "execution_count": null,
      "outputs": [
        {
          "output_type": "stream",
          "text": [
            "/usr/local/lib/python3.6/dist-packages/seaborn/distributions.py:2551: FutureWarning: `distplot` is a deprecated function and will be removed in a future version. Please adapt your code to use either `displot` (a figure-level function with similar flexibility) or `histplot` (an axes-level function for histograms).\n",
            "  warnings.warn(msg, FutureWarning)\n"
          ],
          "name": "stderr"
        },
        {
          "output_type": "display_data",
          "data": {
            "image/png": "[encoded data removed]",
            "text/plain": [
              "<Figure size 432x288 with 1 Axes>"
            ]
          },
          "metadata": {
            "tags": [],
            "needs_background": "light"
          }
        }
      ]
    },
    {
      "cell_type": "code",
      "metadata": {
        "scrolled": true,
        "colab": {
          "base_uri": "https://localhost:8080/",
          "height": 334
        },
        "id": "pTUbopQ47f-G",
        "outputId": "a7c313a1-c635-4771-ef73-ee286f78417e"
      },
      "source": [
        "ax = sns.distplot(df_d['life_expectancy'], bins=20)"
      ],
      "execution_count": null,
      "outputs": [
        {
          "output_type": "stream",
          "text": [
            "/usr/local/lib/python3.6/dist-packages/seaborn/distributions.py:2551: FutureWarning: `distplot` is a deprecated function and will be removed in a future version. Please adapt your code to use either `displot` (a figure-level function with similar flexibility) or `histplot` (an axes-level function for histograms).\n",
            "  warnings.warn(msg, FutureWarning)\n"
          ],
          "name": "stderr"
        },
        {
          "output_type": "display_data",
          "data": {
            "image/png": "[encoded data removed]",
            "text/plain": [
              "<Figure size 432x288 with 1 Axes>"
            ]
          },
          "metadata": {
            "tags": [],
            "needs_background": "light"
          }
        }
      ]
    },
    {
      "cell_type": "code",
      "metadata": {
        "colab": {
          "base_uri": "https://localhost:8080/"
        },
        "id": "ChwFSZDj7f-H",
        "outputId": "41f2e3e4-9c57-4dc0-c78e-a941cbf2cfbf"
      },
      "source": [
        "# Creat year groups by splitting the year values in to three groups each consisting five years\n",
        "df_d['year_group'] = pd.cut(x=df_d['year'], bins=[2005, 2010, 2015], labels=['2006-2010', '2011-2015'])"
      ],
      "execution_count": null,
      "outputs": [
        {
          "output_type": "stream",
          "text": [
            "/usr/local/lib/python3.6/dist-packages/ipykernel_launcher.py:2: SettingWithCopyWarning: \n",
            "A value is trying to be set on a copy of a slice from a DataFrame.\n",
            "Try using .loc[row_indexer,col_indexer] = value instead\n",
            "\n",
            "See the caveats in the documentation: https://pandas.pydata.org/pandas-docs/stable/user_guide/indexing.html#returning-a-view-versus-a-copy\n",
            "  \n"
          ],
          "name": "stderr"
        }
      ]
    },
    {
      "cell_type": "markdown",
      "metadata": {
        "id": "9NQMqBTY7f-H"
      },
      "source": [
        "This study focuses on data from developing countries recorded for the years after 2006 (inclusive). Thus, we will take that portion of data."
      ]
    },
    {
      "cell_type": "code",
      "metadata": {
        "colab": {
          "base_uri": "https://localhost:8080/"
        },
        "id": "k1UUf6sY7f-H",
        "outputId": "4ac371c4-8d7b-4fa5-9074-11e40d594115"
      },
      "source": [
        "# Create a new data frame named df_new that holds th portion of data\n",
        "df_new=df_d[\"year_group\"].isin([\"2006-2010\", \"2011-2015\"])&(df_d['status']=='Developing')\n",
        "df_d=df_d.iloc[df_new.values]\n",
        "df_d.shape"
      ],
      "execution_count": null,
      "outputs": [
        {
          "output_type": "execute_result",
          "data": {
            "text/plain": [
              "(1510, 23)"
            ]
          },
          "metadata": {
            "tags": []
          },
          "execution_count": 10
        }
      ]
    },
    {
      "cell_type": "code",
      "metadata": {
        "id": "KLPRaYY17f-H"
      },
      "source": [
        "# Check the records after selecting portion of data\n",
        "df_d.shape"
      ],
      "execution_count": null,
      "outputs": []
    },
    {
      "cell_type": "code",
      "metadata": {
        "id": "7T9DUB_S7f-H"
      },
      "source": [
        "# Number of unique countries in the new dataset\n",
        "df_d['country'].value_counts()"
      ],
      "execution_count": null,
      "outputs": []
    },
    {
      "cell_type": "code",
      "metadata": {
        "id": "oEZGjCUx7f-H"
      },
      "source": [
        "df_d.describe()"
      ],
      "execution_count": null,
      "outputs": []
    },
    {
      "cell_type": "code",
      "metadata": {
        "id": "j2Q1vIMb7f-H"
      },
      "source": [
        "# Divde data in to two groups Take only the data 2011 to 2015 \n",
        "df_06_10 = df_d[(df_d['year_group'] == '2006-2010')]\n",
        "df_11_15 = df_d[(df_d['year_group'] == '2011-2015')]"
      ],
      "execution_count": null,
      "outputs": []
    },
    {
      "cell_type": "code",
      "metadata": {
        "colab": {
          "base_uri": "https://localhost:8080/",
          "height": 279
        },
        "id": "7esyubql7f-H",
        "outputId": "a206047d-42cc-4dc2-a803-c99bcb2d259b"
      },
      "source": [
        "# Plot a box plot to see if there are ouliers in adult_mortality for the two groups\n",
        "sns.boxplot(x=\"year_group\", y=\"adult_mortality\", data=df_06_10)\n",
        "sns.boxplot(x=\"year_group\", y=\"adult_mortality\", data=df_11_15)\n",
        "plt.show()"
      ],
      "execution_count": null,
      "outputs": [
        {
          "output_type": "display_data",
          "data": {
            "image/png": "[encoded data removed]",
            "text/plain": [
              "<Figure size 432x288 with 1 Axes>"
            ]
          },
          "metadata": {
            "tags": [],
            "needs_background": "light"
          }
        }
      ]
    },
    {
      "cell_type": "markdown",
      "metadata": {
        "id": "E532DUg17f-H"
      },
      "source": [
        "Compared with life expectancy adult mortality seems to have more outliers. Various statistical assumptions and analysis results are sensitive to outliers. However, as much as we would like to, we cannot simply drop a value/observation because it is an outlier. In the real case scenario, it is important to investigate the real nature of the outlier before dropping them as outliers, sometimes, may unfold interesting and legitimate observations as well. Thus, in this study outliers are kept int he analysis."
      ]
    },
    {
      "cell_type": "code",
      "metadata": {
        "id": "AcZiDyf37f-H"
      },
      "source": [
        "# Plot a box plot to see if there are ouliers in life_expectancy for the two groups\n",
        "sns.boxplot(x=\"year_group\", y=\"life_expectancy\", data=df_06_10)\n",
        "sns.boxplot(x=\"year_group\", y=\"life_expectancy\", data=df_11_15)\n",
        "plt.show()"
      ],
      "execution_count": null,
      "outputs": []
    },
    {
      "cell_type": "code",
      "metadata": {
        "id": "SfKYy9A47f-H"
      },
      "source": [
        "# calculate the correlation matrix\n",
        "corr = df_d.corr()\n",
        "\n",
        "# plot the heatmap\n",
        "sns.heatmap(corr, \n",
        "        xticklabels=corr.columns,\n",
        "        yticklabels=corr.columns)\n"
      ],
      "execution_count": null,
      "outputs": []
    },
    {
      "cell_type": "markdown",
      "metadata": {
        "id": "9NtRKYW-7f-H"
      },
      "source": [
        "Coorelation between Adult Mortality and Life Expectancy"
      ]
    },
    {
      "cell_type": "markdown",
      "metadata": {
        "id": "5ssX9QAM7f-H"
      },
      "source": [
        "Even if there are many variables that affect Adult mortality and Life expectancy, in this study only these two variables are considered in this analysis as they are strongly negatively correlated as seen in the correlation and scatter plot. But, the same approach can be followed to test differences in the other variables over a given period. "
      ]
    },
    {
      "cell_type": "code",
      "metadata": {
        "id": "r4J3bg7f7f-H"
      },
      "source": [
        "# Calculate correlation between adult mortality and life expectancy\n",
        "df_06_10['adult_mortality'].corr(df_06_10['life_expectancy'])"
      ],
      "execution_count": null,
      "outputs": []
    },
    {
      "cell_type": "code",
      "metadata": {
        "id": "3A3MwhnR7f-H"
      },
      "source": [
        "#Plot scatter plot to see the corelation between adult mortality and life expectancy\n",
        "plt.scatter(df_06_10['adult_mortality'], df_06_10['life_expectancy'])\n",
        "plt.scatter(df_11_15['adult_mortality'], df_11_15['life_expectancy'])\n",
        "\n",
        "plt.title('Adult mortality vs Life expectancy')\n",
        "plt.xlabel('adult_mortality')\n",
        "plt.ylabel('life_expectancy')\n",
        "\n",
        "plt.show()"
      ],
      "execution_count": null,
      "outputs": []
    },
    {
      "cell_type": "markdown",
      "metadata": {
        "id": "ssiXHEd77f-H"
      },
      "source": [
        "A paired test will be used to compare the two dependent \"paired\" groups. The difference score is calculated by subtracting each pair of scores and then calculating the mean difference, rather than calculating the difference of the means."
      ]
    },
    {
      "cell_type": "code",
      "metadata": {
        "id": "7iwyNxKn7f-H"
      },
      "source": [
        "# Plot a box plot to see if there are ouliers in life_expectancy\n",
        "sns.boxplot(x=\"year_group\", y=\"diff_cle\", data=df_06_10)\n",
        "sns.boxplot(x=\"year_group\", y=\"life_expectancy\", data=df_11_15)\n",
        "plt.show()"
      ],
      "execution_count": null,
      "outputs": []
    },
    {
      "cell_type": "markdown",
      "metadata": {
        "id": "2AbKkMGC7f-H"
      },
      "source": [
        "Our null hypothesis for the paired t-test is that the mean difference between the two groups year categories is equal to zero.\n",
        "The paired t-test assumes normality on the values.  The difference score is calculated by subtracting each pair of scores and then calculating the mean difference. Then, we will be testing the normality of the differences.\n"
      ]
    },
    {
      "cell_type": "code",
      "metadata": {
        "scrolled": false,
        "id": "2iXU_e1J7f-H"
      },
      "source": [
        "# diff_am is the difference of each values in the two groups for the variable adult_mortality\n",
        "diff_am=df_11_15['adult_mortality'].values-df_06_10['adult_mortality'].values\n",
        "\n",
        "# diff_le is the difference of each values in the two groups for the variable life expectancy\n",
        "diff_le=df_11_15['life_expectancy'].values-df_06_10['life_expectancy'].values"
      ],
      "execution_count": null,
      "outputs": []
    },
    {
      "cell_type": "markdown",
      "metadata": {
        "id": "APH4jLqt7f-I"
      },
      "source": [
        "Test of normality  will be employed in order to decide if a parametric or non-parametric test to be used. There are different approaches can be used such as QQ plots and histograms."
      ]
    },
    {
      "cell_type": "code",
      "metadata": {
        "colab": {
          "base_uri": "https://localhost:8080/",
          "height": 614
        },
        "id": "0Z8xP9QE7f-I",
        "outputId": "e9ff2d11-b094-471f-981e-32dcb2b60220"
      },
      "source": [
        "# Test normality using visual examination - QQ plot and histogram for the difference of 'adult mortality'\n",
        "qqplot(diff_am, line='s')\n",
        "plt.title('Adult mortality')\n",
        "plt.show()\n",
        "sns.distplot(diff_am)\n"
      ],
      "execution_count": null,
      "outputs": [
        {
          "output_type": "display_data",
          "data": {
            "image/png": "[encoded data removed]",
            "text/plain": [
              "<Figure size 432x288 with 1 Axes>"
            ]
          },
          "metadata": {
            "tags": [],
            "needs_background": "light"
          }
        },
        {
          "output_type": "stream",
          "text": [
            "/usr/local/lib/python3.6/dist-packages/seaborn/distributions.py:2551: FutureWarning: `distplot` is a deprecated function and will be removed in a future version. Please adapt your code to use either `displot` (a figure-level function with similar flexibility) or `histplot` (an axes-level function for histograms).\n",
            "  warnings.warn(msg, FutureWarning)\n"
          ],
          "name": "stderr"
        },
        {
          "output_type": "execute_result",
          "data": {
            "text/plain": [
              "<matplotlib.axes._subplots.AxesSubplot at 0x7f3c8eb76630>"
            ]
          },
          "metadata": {
            "tags": []
          },
          "execution_count": 14
        },
        {
          "output_type": "display_data",
          "data": {
            "image/png": "[encoded data removed]",
            "text/plain": [
              "<Figure size 432x288 with 1 Axes>"
            ]
          },
          "metadata": {
            "tags": [],
            "needs_background": "light"
          }
        }
      ]
    },
    {
      "cell_type": "code",
      "metadata": {
        "colab": {
          "base_uri": "https://localhost:8080/",
          "height": 614
        },
        "id": "atU4zb2O7f-I",
        "outputId": "e0ac8149-bb52-4bfd-8195-a76f100a6e1e"
      },
      "source": [
        "# Test normality using visual examination - QQ plot and histogram for the difference of 'life_expectancy'\n",
        "\n",
        "qqplot(diff_le, line='s')\n",
        "plt.title('Life_expectancy')\n",
        "plt.show()\n",
        "sns.distplot(diff_le)\n"
      ],
      "execution_count": null,
      "outputs": [
        {
          "output_type": "display_data",
          "data": {
            "image/png": "[encoded data removed]",
            "text/plain": [
              "<Figure size 432x288 with 1 Axes>"
            ]
          },
          "metadata": {
            "tags": [],
            "needs_background": "light"
          }
        },
        {
          "output_type": "stream",
          "text": [
            "/usr/local/lib/python3.6/dist-packages/seaborn/distributions.py:2551: FutureWarning: `distplot` is a deprecated function and will be removed in a future version. Please adapt your code to use either `displot` (a figure-level function with similar flexibility) or `histplot` (an axes-level function for histograms).\n",
            "  warnings.warn(msg, FutureWarning)\n"
          ],
          "name": "stderr"
        },
        {
          "output_type": "execute_result",
          "data": {
            "text/plain": [
              "<matplotlib.axes._subplots.AxesSubplot at 0x7f3c8e9fc668>"
            ]
          },
          "metadata": {
            "tags": []
          },
          "execution_count": 15
        },
        {
          "output_type": "display_data",
          "data": {
            "image/png": "[encoded data removed]",
            "text/plain": [
              "<Figure size 432x288 with 1 Axes>"
            ]
          },
          "metadata": {
            "tags": [],
            "needs_background": "light"
          }
        }
      ]
    },
    {
      "cell_type": "markdown",
      "metadata": {
        "id": "EjHxca_J7f-I"
      },
      "source": [
        "As seen in the above visual illustrations (QQ plots and histogram), life expectancy adult mortality can be assumed to have a normal distribution even if we don't get the perfect bell-shaped curve. As stated in the Central Limit Theorem, with large enough sizes, samples are often well-approximated by a normal distribution. Thus, this study will assume a paired ttest from scipy.stats to perform well on the given data. However, adult normality deviates from normality which requires the need of non-parametric test.\n",
        " "
      ]
    },
    {
      "cell_type": "markdown",
      "metadata": {
        "id": "4ll8rqWn7f-I"
      },
      "source": [
        "The null and alternative hypothisis are:\n",
        "\n",
        "H0: µ1 = µ2  (their is no difference in the average life expectancy and age mortality for the years 2006-2010 and 2011- 2015 in developing countries.\n",
        "\n",
        "H1: µ1 ≠ µ2 (there is no difference between the two groups"
      ]
    },
    {
      "cell_type": "code",
      "metadata": {
        "colab": {
          "base_uri": "https://localhost:8080/"
        },
        "id": "NXE3VZiy7f-I",
        "outputId": "d5e501b8-6407-4896-904a-cabdd5570257"
      },
      "source": [
        "t,p=stats.ttest_rel( df_11_15['life_expectancy'],df_06_10['life_expectancy'])\n",
        "print (t,p)\n",
        "if (p <0.05):\n",
        "    print(\"pvalue < 0.05\")"
      ],
      "execution_count": null,
      "outputs": [
        {
          "output_type": "stream",
          "text": [
            "17.49324696730383 9.079528215558704e-58\n",
            "pvalue < 0.05\n"
          ],
          "name": "stdout"
        }
      ]
    },
    {
      "cell_type": "markdown",
      "metadata": {
        "id": "uB0SyDmo7f-I"
      },
      "source": [
        "The p-value is extremely small, implying the findings are significant and that there is a real difference. In other words, it tells that life expectancy changed between 2006-2010 and 2011-2015."
      ]
    },
    {
      "cell_type": "code",
      "metadata": {
        "id": "2cKN4WBP7f-I"
      },
      "source": [
        "# Test \n",
        "t,p=stats.ttest_rel( df_11_15['adult_mortality'],df_06_10['adult_mortality'])\n",
        "print (t,p)\n",
        "if (p <0.05):\n",
        "    print(\"pvalue < 0.05\")"
      ],
      "execution_count": null,
      "outputs": []
    },
    {
      "cell_type": "code",
      "metadata": {
        "colab": {
          "base_uri": "https://localhost:8080/",
          "height": 233
        },
        "id": "malSIZ0xpPHU",
        "outputId": "4d14a45a-3f39-492b-b6c9-0485020de2a7"
      },
      "source": [
        "# Test \n",
        "t,p=stats.ttest_rel( df_11_15['life_expectancy'],df_06_10['life_expectancy'])\n",
        "print (t,p)\n",
        "if (p <0.05):\n",
        "    print(\"pvalue < 0.05\")"
      ],
      "execution_count": null,
      "outputs": [
        {
          "output_type": "error",
          "ename": "NameError",
          "evalue": "ignored",
          "traceback": [
            "\u001b[0;31m---------------------------------------------------------------------------\u001b[0m",
            "\u001b[0;31mNameError\u001b[0m                                 Traceback (most recent call last)",
            "\u001b[0;32m<ipython-input-1-74aea70859a5>\u001b[0m in \u001b[0;36m<module>\u001b[0;34m()\u001b[0m\n\u001b[1;32m      1\u001b[0m \u001b[0;31m# Test\u001b[0m\u001b[0;34m\u001b[0m\u001b[0;34m\u001b[0m\u001b[0;34m\u001b[0m\u001b[0m\n\u001b[0;32m----> 2\u001b[0;31m \u001b[0mt\u001b[0m\u001b[0;34m,\u001b[0m\u001b[0mp\u001b[0m\u001b[0;34m=\u001b[0m\u001b[0mstats\u001b[0m\u001b[0;34m.\u001b[0m\u001b[0mttest_rel\u001b[0m\u001b[0;34m(\u001b[0m \u001b[0mdf_11_15\u001b[0m\u001b[0;34m[\u001b[0m\u001b[0;34m'life_expectancy'\u001b[0m\u001b[0;34m]\u001b[0m\u001b[0;34m,\u001b[0m\u001b[0mdf_06_10\u001b[0m\u001b[0;34m[\u001b[0m\u001b[0;34m'life_expectancy'\u001b[0m\u001b[0;34m]\u001b[0m\u001b[0;34m)\u001b[0m\u001b[0;34m\u001b[0m\u001b[0;34m\u001b[0m\u001b[0m\n\u001b[0m\u001b[1;32m      3\u001b[0m \u001b[0mprint\u001b[0m \u001b[0;34m(\u001b[0m\u001b[0mt\u001b[0m\u001b[0;34m,\u001b[0m\u001b[0mp\u001b[0m\u001b[0;34m)\u001b[0m\u001b[0;34m\u001b[0m\u001b[0;34m\u001b[0m\u001b[0m\n\u001b[1;32m      4\u001b[0m \u001b[0;32mif\u001b[0m \u001b[0;34m(\u001b[0m\u001b[0mp\u001b[0m \u001b[0;34m<\u001b[0m\u001b[0;36m0.05\u001b[0m\u001b[0;34m)\u001b[0m\u001b[0;34m:\u001b[0m\u001b[0;34m\u001b[0m\u001b[0;34m\u001b[0m\u001b[0m\n\u001b[1;32m      5\u001b[0m     \u001b[0mprint\u001b[0m\u001b[0;34m(\u001b[0m\u001b[0;34m\"pvalue < 0.05\"\u001b[0m\u001b[0;34m)\u001b[0m\u001b[0;34m\u001b[0m\u001b[0;34m\u001b[0m\u001b[0m\n",
            "\u001b[0;31mNameError\u001b[0m: name 'stats' is not defined"
          ]
        }
      ]
    },
    {
      "cell_type": "code",
      "metadata": {
        "id": "ccG3OUwZ9OOu"
      },
      "source": [
        "# diff_am is the difference of each values in the two groups for the variable adult_mortality\n",
        "diff_am=df_11_15['adult_mortality'].values-df_06_10['adult_mortality'].values\n"
      ],
      "execution_count": null,
      "outputs": []
    },
    {
      "cell_type": "code",
      "metadata": {
        "colab": {
          "base_uri": "https://localhost:8080/"
        },
        "id": "6OZK9paM9SVC",
        "outputId": "31f287bf-bd4c-45fc-e418-0cc21c8bb229"
      },
      "source": [
        " _, p=stats.wilcoxon((df_11_15['adult_mortality'].values-df_06_10['adult_mortality'].values))\n",
        "if (p <0.05):\n",
        "    print(\"pvalue < 0.05\")"
      ],
      "execution_count": null,
      "outputs": [
        {
          "output_type": "stream",
          "text": [
            "pvalue < 0.05\n"
          ],
          "name": "stdout"
        }
      ]
    },
    {
      "cell_type": "markdown",
      "metadata": {
        "id": "bivKqUz-7f-I"
      },
      "source": [
        "Going by the p-value, the findings are significant. The difference in means is significantly different than zero."
      ]
    },
    {
      "cell_type": "code",
      "metadata": {
        "id": "7D31onwW7f-I"
      },
      "source": [
        "df_d['status'].value_counts()"
      ],
      "execution_count": null,
      "outputs": []
    },
    {
      "cell_type": "code",
      "metadata": {
        "id": "B73mEOyV7f-I"
      },
      "source": [
        "# Calculate the 95% confidence interval for life_expectancy\n",
        "get_95_ci_p(df_11_15['life_expectancy'],df_06_10['life_expectancy'])"
      ],
      "execution_count": null,
      "outputs": []
    },
    {
      "cell_type": "markdown",
      "metadata": {
        "id": "3GwQZKh47f-I"
      },
      "source": [
        "According to a 95% CI, we can quantify the difference between 2006-2010 and 2011-2015 as likely being between 1.0 & 2.7. In other words, countries life expectancy has increased by 1.0 to 2.7 more years in 2011-2015 than it was in 2006-2010. "
      ]
    },
    {
      "cell_type": "code",
      "metadata": {
        "id": "8iEwN0f87f-I"
      },
      "source": [
        "# Calculate the 95% confidence interval for adult_mortality\n",
        "get_95_ci_p(df_11_15['adult_mortality'],df_06_10['adult_mortality'])"
      ],
      "execution_count": null,
      "outputs": []
    },
    {
      "cell_type": "markdown",
      "metadata": {
        "id": "T9rDcJ0l7f-I"
      },
      "source": [
        "We are 95% confident that the difference in mean adult mortality between the two year groups, 2006-2010 & 2011-2015, is between -27.9 and -4.3. It can also be explained as, adult mortality has declined by 27 to 4 years in 2011-2015 than it was in 2006-2010.\n"
      ]
    },
    {
      "cell_type": "code",
      "metadata": {
        "id": "xL5pr4nd7f-I"
      },
      "source": [
        "Conclusion"
      ],
      "execution_count": null,
      "outputs": []
    },
    {
      "cell_type": "markdown",
      "metadata": {
        "id": "X57tE8-U7f-I"
      },
      "source": [
        "In this study we have seen a significant difference between adult mortality and life expectancy between the two groups, namely 2006-2010 and 2011-2015. As seen int the correlation, we have seen a result that supports the theory that adult mortality is inversely proportional to life expectancy. During the given years, it is seen that increased life expectancy and decreased mortality rate. However, this trend should be thoroughly studied especially in the presence of  situations like Pandemics (Spanish flue and Covid 19 are good examples), where statistical results may not tell the expected trend.\n",
        "\n",
        "This analysis can be used as a starting point to perform various follow up research ideas. Life expectancy can be influenced by many variables (as seen in the correlation matrix) including, income, child mortality, infant mortality, income, schooling and other variables like HIV/AIDs. Thus, further studies need to be done to see the entire picture of factors affecting life expectancy. In addition, different research documents, including those by CDC and United Nations, reported life expectancy and adult mortality are affected by gender and age, which this dataset hasn’t incorporated and need to include in the future.\n",
        "\n",
        "Research projects like this can be used by different stake holders. Policy makers and medical researchers can benefit from it as public health intervention, good health care plans and fund allocations can play a significant role in making informed decision and improving the overall health of a society. Educators and community leaders can play an important role by educating the community about the risk of alcohol and drug use, which directly affects adult mortality. Finally, such studies will highly benefit local and international development monitoring including Sustainable Development Goals (SDGs) in order to assess the social and economic development of a region or country.\n"
      ]
    }
  ]
}